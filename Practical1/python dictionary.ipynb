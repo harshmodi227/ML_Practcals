{
 "cells": [
  {
   "cell_type": "code",
   "execution_count": 10,
   "metadata": {},
   "outputs": [
    {
     "name": "stdout",
     "output_type": "stream",
     "text": [
      "{'name': 'jay', 'age': 19, 'hobbies': ['drawing', 'watching movies'], 'birthdate': {'month': 5, 'day': 16, 'year': 2001}}\n",
      "4\n",
      "jay\n",
      "['drawing', 'watching movies']\n",
      "this is day in birthdate  16\n"
     ]
    }
   ],
   "source": [
    "student = {'name' : 'jay','age':19,'hobbies':['drawing','watching movies'],'birthdate':{'month':5,'day':16,'year':2001}}\n",
    "print(student)\n",
    "print(len(student))\n",
    "print(student['name'])\n",
    "print(student['hobbies'])\n",
    "print('this is day in birthdate  '+str(student['birthdate']['day']))"
   ]
  },
  {
   "cell_type": "code",
   "execution_count": 2,
   "metadata": {},
   "outputs": [
    {
     "name": "stdout",
     "output_type": "stream",
     "text": [
      "dict_keys(['name', 'age', 'hobbies', 'birthdate'])\n",
      "dict_values(['jay', 19, ['drawing', 'watching movies'], {'month': 5, 'date': 16, 'year': 2001}])\n"
     ]
    }
   ],
   "source": [
    "print(student.keys())\n",
    "print(student.values())"
   ]
  },
  {
   "cell_type": "code",
   "execution_count": 17,
   "metadata": {},
   "outputs": [
    {
     "name": "stdout",
     "output_type": "stream",
     "text": [
      "{1: 'social science', 2: 'english', 3: 'science'}\n",
      "{1: 'physics', 2: 'yoga', 3: 'science'}\n"
     ]
    }
   ],
   "source": [
    "#by using update method we can update multiple key value pairs\n",
    "print(subject)\n",
    "subject.update({1 : 'physics',2 : \"yoga\"})\n",
    "print(subject)"
   ]
  },
  {
   "cell_type": "code",
   "execution_count": 4,
   "metadata": {},
   "outputs": [
    {
     "name": "stdout",
     "output_type": "stream",
     "text": [
      "physics\n"
     ]
    }
   ],
   "source": [
    "#we can use integer as key also\n",
    "\n",
    "subject = {1 : 'physics',2 : 'english',3 : 'science'}\n",
    "print(subject[1])"
   ]
  },
  {
   "cell_type": "code",
   "execution_count": 11,
   "metadata": {},
   "outputs": [
    {
     "ename": "KeyError",
     "evalue": "4",
     "output_type": "error",
     "traceback": [
      "\u001b[1;31m---------------------------------------------------------------------------\u001b[0m",
      "\u001b[1;31mKeyError\u001b[0m                                  Traceback (most recent call last)",
      "\u001b[1;32m<ipython-input-11-f5af3a03601a>\u001b[0m in \u001b[0;36m<module>\u001b[1;34m\u001b[0m\n\u001b[0;32m      1\u001b[0m \u001b[1;31m#if key doesn'y exist in dictionary then it will throw error\u001b[0m\u001b[1;33m\u001b[0m\u001b[1;33m\u001b[0m\u001b[1;33m\u001b[0m\u001b[0m\n\u001b[1;32m----> 2\u001b[1;33m \u001b[0mprint\u001b[0m\u001b[1;33m(\u001b[0m\u001b[0msubject\u001b[0m\u001b[1;33m[\u001b[0m\u001b[1;36m4\u001b[0m\u001b[1;33m]\u001b[0m\u001b[1;33m)\u001b[0m\u001b[1;33m\u001b[0m\u001b[1;33m\u001b[0m\u001b[0m\n\u001b[0m",
      "\u001b[1;31mKeyError\u001b[0m: 4"
     ]
    }
   ],
   "source": [
    "#if key doesn't exist in dictionary then it will throw error\n",
    "print(subject[4])"
   ]
  },
  {
   "cell_type": "code",
   "execution_count": 13,
   "metadata": {},
   "outputs": [
    {
     "name": "stdout",
     "output_type": "stream",
     "text": [
      "None\n",
      "not found\n"
     ]
    }
   ],
   "source": [
    "#to avoid above error use get method\n",
    "\n",
    "print(subject.get(4))\n",
    "\n",
    "#we can pass second argument in get method two show specific message when key doesn't exist in dictionary\n",
    "print(subject.get(4,\"not found\"))"
   ]
  },
  {
   "cell_type": "code",
   "execution_count": 15,
   "metadata": {},
   "outputs": [
    {
     "name": "stdout",
     "output_type": "stream",
     "text": [
      "{1: 'physics', 2: 'english', 3: 'science', 4: 'maths'}\n",
      "{1: 'social science', 2: 'english', 3: 'science', 4: 'maths'}\n"
     ]
    }
   ],
   "source": [
    "#to update perticuler item or to add new item in dictioary\n",
    "subject[4] = \"maths\"\n",
    "print(subject)\n",
    "\n",
    "subject[1] = \"social science\"\n",
    "print(subject)"
   ]
  },
  {
   "cell_type": "code",
   "execution_count": 16,
   "metadata": {},
   "outputs": [
    {
     "name": "stdout",
     "output_type": "stream",
     "text": [
      "{1: 'social science', 2: 'english', 3: 'science', 4: 'maths'}\n",
      "{1: 'social science', 2: 'english', 3: 'science'}\n"
     ]
    }
   ],
   "source": [
    "print(subject)\n",
    "del subject[4]\n",
    "print(subject)"
   ]
  },
  {
   "cell_type": "code",
   "execution_count": 18,
   "metadata": {},
   "outputs": [
    {
     "name": "stdout",
     "output_type": "stream",
     "text": [
      "dict_items([(1, 'physics'), (2, 'yoga'), (3, 'science')])\n"
     ]
    }
   ],
   "source": [
    "print(subject.items())"
   ]
  },
  {
   "cell_type": "code",
   "execution_count": 20,
   "metadata": {},
   "outputs": [
    {
     "name": "stdout",
     "output_type": "stream",
     "text": [
      "{'name': 'jay', 'age': 19, 'hobbies': ['drawing', 'watching movies'], 'birthdate': {'month': 5, 'day': 16, 'year': 2001}}\n",
      "name jay\n",
      "age 19\n",
      "hobbies ['drawing', 'watching movies']\n",
      "birthdate {'month': 5, 'day': 16, 'year': 2001}\n"
     ]
    }
   ],
   "source": [
    "print(student)\n",
    "\n",
    "for key,value in student.items():\n",
    "    print(key,value)"
   ]
  },
  {
   "cell_type": "code",
   "execution_count": 21,
   "metadata": {},
   "outputs": [
    {
     "name": "stdout",
     "output_type": "stream",
     "text": [
      "{'name': 'jay', 'hobbies': ['drawing', 'watching movies'], 'birthdate': {'month': 5, 'day': 16, 'year': 2001}}\n",
      "19\n"
     ]
    }
   ],
   "source": [
    "#if we want to remove specific key value pair from dictionary \n",
    "data = student.pop('age')\n",
    "print(student)\n",
    "print(data)"
   ]
  },
  {
   "cell_type": "code",
   "execution_count": 22,
   "metadata": {},
   "outputs": [
    {
     "name": "stdout",
     "output_type": "stream",
     "text": [
      "name\n",
      "hobbies\n",
      "birthdate\n"
     ]
    }
   ],
   "source": [
    "for key in student:\n",
    "    print(key)"
   ]
  },
  {
   "cell_type": "code",
   "execution_count": 24,
   "metadata": {
    "scrolled": true
   },
   "outputs": [
    {
     "name": "stdout",
     "output_type": "stream",
     "text": [
      "jay\n",
      "['drawing', 'watching movies']\n",
      "{'month': 5, 'day': 16, 'year': 2001}\n"
     ]
    }
   ],
   "source": [
    "for key in student:\n",
    "    print(student[key])"
   ]
  },
  {
   "cell_type": "code",
   "execution_count": null,
   "metadata": {},
   "outputs": [],
   "source": []
  }
 ],
 "metadata": {
  "kernelspec": {
   "display_name": "Python 3",
   "language": "python",
   "name": "python3"
  },
  "language_info": {
   "codemirror_mode": {
    "name": "ipython",
    "version": 3
   },
   "file_extension": ".py",
   "mimetype": "text/x-python",
   "name": "python",
   "nbconvert_exporter": "python",
   "pygments_lexer": "ipython3",
   "version": "3.8.5"
  }
 },
 "nbformat": 4,
 "nbformat_minor": 4
}
