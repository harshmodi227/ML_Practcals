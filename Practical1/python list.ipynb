{
 "cells": [
  {
   "cell_type": "code",
   "execution_count": 1,
   "metadata": {},
   "outputs": [
    {
     "name": "stdout",
     "output_type": "stream",
     "text": [
      "['apple', 'banana', 'orange', 'strawberry']\n"
     ]
    }
   ],
   "source": [
    "fruits = ['apple','banana','orange','strawberry']\n",
    "print(fruits)"
   ]
  },
  {
   "cell_type": "code",
   "execution_count": 2,
   "metadata": {},
   "outputs": [
    {
     "name": "stdout",
     "output_type": "stream",
     "text": [
      "apple\n",
      "strawberry\n"
     ]
    }
   ],
   "source": [
    "print(fruits[0])\n",
    "print(fruits[-1])"
   ]
  },
  {
   "cell_type": "code",
   "execution_count": 3,
   "metadata": {},
   "outputs": [
    {
     "name": "stdout",
     "output_type": "stream",
     "text": [
      "['apple', 'banana', 'orange']\n"
     ]
    }
   ],
   "source": [
    "print(fruits[0:3])"
   ]
  },
  {
   "cell_type": "code",
   "execution_count": 4,
   "metadata": {},
   "outputs": [
    {
     "name": "stdout",
     "output_type": "stream",
     "text": [
      "['apple', 'banana', 'orange', 'strawberry']\n"
     ]
    }
   ],
   "source": [
    "print(fruits[:])"
   ]
  },
  {
   "cell_type": "code",
   "execution_count": 5,
   "metadata": {},
   "outputs": [
    {
     "name": "stdout",
     "output_type": "stream",
     "text": [
      "['banana', 'orange']\n"
     ]
    }
   ],
   "source": [
    "print(fruits[1:-1])"
   ]
  },
  {
   "cell_type": "code",
   "execution_count": 7,
   "metadata": {},
   "outputs": [
    {
     "name": "stdout",
     "output_type": "stream",
     "text": [
      "['strawberry', 'orange']\n"
     ]
    }
   ],
   "source": [
    "print(fruits[-1:1:-1])"
   ]
  },
  {
   "cell_type": "code",
   "execution_count": 9,
   "metadata": {},
   "outputs": [
    {
     "name": "stdout",
     "output_type": "stream",
     "text": [
      "['apple', 'banana', 'orange', 'strawberry', 'mango', 'mango']\n"
     ]
    }
   ],
   "source": [
    "fruits.append('mango')\n",
    "print(fruits)"
   ]
  },
  {
   "cell_type": "code",
   "execution_count": 10,
   "metadata": {},
   "outputs": [
    {
     "name": "stdout",
     "output_type": "stream",
     "text": [
      "['apple', 'orange', 'mango']\n"
     ]
    }
   ],
   "source": [
    "print(fruits[::2])"
   ]
  },
  {
   "cell_type": "code",
   "execution_count": 11,
   "metadata": {},
   "outputs": [
    {
     "name": "stdout",
     "output_type": "stream",
     "text": [
      "['mango', 'mango', 'strawberry', 'orange', 'banana', 'apple']\n"
     ]
    }
   ],
   "source": [
    "print(fruits[::-1])"
   ]
  },
  {
   "cell_type": "code",
   "execution_count": 12,
   "metadata": {},
   "outputs": [
    {
     "name": "stdout",
     "output_type": "stream",
     "text": [
      "['apple', 'banana', 'orange', 'strawberry', 'mango']\n"
     ]
    }
   ],
   "source": [
    "fruits.pop()\n",
    "print(fruits)"
   ]
  },
  {
   "cell_type": "code",
   "execution_count": 13,
   "metadata": {},
   "outputs": [
    {
     "name": "stdout",
     "output_type": "stream",
     "text": [
      "['apple', 'banana', 'orange', 'strawberry', 'mango', 'mango']\n"
     ]
    }
   ],
   "source": [
    "fruits.append('mango')\n",
    "print(fruits)"
   ]
  },
  {
   "cell_type": "code",
   "execution_count": 14,
   "metadata": {},
   "outputs": [
    {
     "name": "stdout",
     "output_type": "stream",
     "text": [
      "mango\n",
      "['apple', 'banana', 'orange', 'strawberry', 'mango']\n"
     ]
    }
   ],
   "source": [
    "fruit = fruits.pop()\n",
    "print(fruit)\n",
    "print(fruits)"
   ]
  },
  {
   "cell_type": "code",
   "execution_count": 15,
   "metadata": {},
   "outputs": [
    {
     "name": "stdout",
     "output_type": "stream",
     "text": [
      "['apple', 'banana', 'mango', 'orange', 'strawberry']\n"
     ]
    }
   ],
   "source": [
    "fruits.sort()\n",
    "print(fruits)\n",
    "\n",
    "#sort function just sort original list it doesn't return any thing"
   ]
  },
  {
   "cell_type": "code",
   "execution_count": 19,
   "metadata": {},
   "outputs": [
    {
     "name": "stdout",
     "output_type": "stream",
     "text": [
      "['strawberry', 'orange', 'mango', 'banana', 'apple']\n"
     ]
    }
   ],
   "source": [
    "fruits.reverse()\n",
    "print(fruits)"
   ]
  },
  {
   "cell_type": "code",
   "execution_count": 20,
   "metadata": {},
   "outputs": [
    {
     "name": "stdout",
     "output_type": "stream",
     "text": [
      "['apple', 'banana', 'mango', 'orange', 'strawberry']\n",
      "['strawberry', 'orange', 'mango', 'banana', 'apple']\n"
     ]
    }
   ],
   "source": [
    "newfruits = sorted(fruits)\n",
    "print(newfruits)\n",
    "print(fruits)\n",
    "\n",
    "#sorted function returns new sorted list instead of sorting the original list"
   ]
  },
  {
   "cell_type": "code",
   "execution_count": 21,
   "metadata": {},
   "outputs": [
    {
     "name": "stdout",
     "output_type": "stream",
     "text": [
      "['strawberry', 'orange', 'grapes', 'mango', 'banana', 'apple']\n"
     ]
    }
   ],
   "source": [
    "fruits.insert(2,'grapes')\n",
    "print(fruits)\n",
    "\n",
    "#add value at specific index"
   ]
  },
  {
   "cell_type": "code",
   "execution_count": 22,
   "metadata": {},
   "outputs": [
    {
     "name": "stdout",
     "output_type": "stream",
     "text": [
      "['strawberry', 'orange', 'grapes', 'mango', 'banana', 'apple', ['art', 'compsci', 'civil']]\n"
     ]
    }
   ],
   "source": [
    "newlist = ['art','compsci','civil']\n",
    "fruits.append(newlist)\n",
    "print(fruits)\n",
    "\n",
    "#append function just append the whole list at the end"
   ]
  },
  {
   "cell_type": "code",
   "execution_count": 28,
   "metadata": {},
   "outputs": [
    {
     "name": "stdout",
     "output_type": "stream",
     "text": [
      "['strawberry', ['art', 'compsci', 'civil'], 'orange', 'grapes', 'mango', 'banana']\n",
      "['strawberry', 'orange', 'grapes', 'mango', 'banana']\n"
     ]
    }
   ],
   "source": [
    "print(fruits)\n",
    "fruits.remove(['art','compsci','civil'])\n",
    "print(fruits)"
   ]
  },
  {
   "cell_type": "code",
   "execution_count": 29,
   "metadata": {},
   "outputs": [
    {
     "name": "stdout",
     "output_type": "stream",
     "text": [
      "['strawberry', 'orange', 'grapes', 'mango', 'banana']\n",
      "['strawberry', 'orange', 'grapes', 'mango', 'banana', 'art', 'compsci', 'civil']\n"
     ]
    }
   ],
   "source": [
    "print(fruits)\n",
    "fruits.extend(newlist)\n",
    "print(fruits)\n",
    "\n",
    "#extend just append each item of other list to original list"
   ]
  },
  {
   "cell_type": "code",
   "execution_count": 30,
   "metadata": {},
   "outputs": [
    {
     "name": "stdout",
     "output_type": "stream",
     "text": [
      "['art', 'computersci', 'civil', 'mechanical']\n",
      "['art', 'computersci', 'civil', 'mechanical']\n",
      "['design', 'computersci', 'civil', 'mechanical']\n",
      "['design', 'computersci', 'civil', 'mechanical']\n"
     ]
    }
   ],
   "source": [
    "#lists are mutable\n",
    "list1 = ['art','computersci','civil','mechanical']\n",
    "list2 = list1\n",
    "\n",
    "print(list1)\n",
    "print(list2)\n",
    "#here list list1 and list2 both are stored on the same memory location so if you modify one it affect other\n",
    "\n",
    "list1[0] = 'design'\n",
    "#here we just modify list1 but it affect list2 also \n",
    "\n",
    "print(list1)\n",
    "print(list2)"
   ]
  },
  {
   "cell_type": "code",
   "execution_count": 31,
   "metadata": {},
   "outputs": [
    {
     "name": "stdout",
     "output_type": "stream",
     "text": [
      "[]\n"
     ]
    }
   ],
   "source": [
    "templist = []  #we can create empty list like this\n",
    "print(templist)"
   ]
  },
  {
   "cell_type": "code",
   "execution_count": 37,
   "metadata": {},
   "outputs": [
    {
     "name": "stdout",
     "output_type": "stream",
     "text": [
      "this is fruit =>  strawberry\n",
      "this is fruit =>  orange\n",
      "this is fruit =>  grapes\n",
      "this is fruit =>  mango\n",
      "this is fruit =>  banana\n",
      "this is fruit =>  art\n",
      "this is fruit =>  compsci\n",
      "this is fruit =>  civil\n",
      "--------------------------------------------------\n",
      "this is index 0 and this is fruit strawberry\n",
      "this is index 1 and this is fruit orange\n",
      "this is index 2 and this is fruit grapes\n",
      "this is index 3 and this is fruit mango\n",
      "this is index 4 and this is fruit banana\n",
      "this is index 5 and this is fruit art\n",
      "this is index 6 and this is fruit compsci\n",
      "this is index 7 and this is fruit civil\n"
     ]
    }
   ],
   "source": [
    "for fruit in fruits:\n",
    "    print(\"this is fruit => \",fruit)\n",
    "    \n",
    "print('--------------------------------------------------')\n",
    "#if we want to index with each iteration then\n",
    "\n",
    "for index,fruit in enumerate(fruits):\n",
    "    temp = f'this is index {index} and this is fruit {fruit}'\n",
    "    print(temp)"
   ]
  },
  {
   "cell_type": "code",
   "execution_count": 42,
   "metadata": {},
   "outputs": [
    {
     "name": "stdout",
     "output_type": "stream",
     "text": [
      "['art', 'banana', 'civil', 'compsci', 'grapes', 'mango', 'orange', 'strawberry']\n",
      "['strawberry', 'orange', 'mango', 'grapes', 'compsci', 'civil', 'banana', 'art']\n"
     ]
    }
   ],
   "source": [
    "#if we want to sort the list in reverse order then\n",
    "\n",
    "fruits.sort()\n",
    "print(fruits)\n",
    "fruits.sort(reverse = True)\n",
    "print(fruits)"
   ]
  },
  {
   "cell_type": "code",
   "execution_count": 43,
   "metadata": {},
   "outputs": [
    {
     "name": "stdout",
     "output_type": "stream",
     "text": [
      "6\n",
      "1\n",
      "21\n"
     ]
    }
   ],
   "source": [
    "#we can get the max,min and sum of the list \n",
    "intlist = [1,2,3,4,5,6]\n",
    "print(max(intlist))\n",
    "print(min(intlist))\n",
    "print(sum(intlist))"
   ]
  },
  {
   "cell_type": "code",
   "execution_count": 45,
   "metadata": {},
   "outputs": [
    {
     "name": "stdout",
     "output_type": "stream",
     "text": [
      "2\n",
      "['strawberry', 'orange', 'mango', 'grapes', 'compsci', 'civil', 'banana', 'art']\n"
     ]
    }
   ],
   "source": [
    "print(fruits.index('mango'))\n",
    "print(fruits)"
   ]
  },
  {
   "cell_type": "code",
   "execution_count": 46,
   "metadata": {},
   "outputs": [
    {
     "name": "stdout",
     "output_type": "stream",
     "text": [
      "yes mango is there\n"
     ]
    }
   ],
   "source": [
    "#if we want to check existance of perticuler element then \n",
    "\n",
    "if 'mango' in fruits:\n",
    "    print(\"yes mango is there\")\n",
    "    "
   ]
  },
  {
   "cell_type": "code",
   "execution_count": 50,
   "metadata": {},
   "outputs": [
    {
     "name": "stdout",
     "output_type": "stream",
     "text": [
      "strawberry, orange, mango, grapes, compsci, civil, banana, art\n",
      "<class 'str'>\n",
      "['strawberry', 'orange', 'mango', 'grapes', 'compsci', 'civil', 'banana', 'art']\n"
     ]
    }
   ],
   "source": [
    "liststring = ', '.join(fruits)\n",
    "print(liststring)\n",
    "print(type(liststring))\n",
    "\n",
    "newfruitlist = liststring.split(', ')\n",
    "print(newfruitlist)\n"
   ]
  },
  {
   "cell_type": "code",
   "execution_count": null,
   "metadata": {},
   "outputs": [],
   "source": []
  }
 ],
 "metadata": {
  "kernelspec": {
   "display_name": "Python 3",
   "language": "python",
   "name": "python3"
  },
  "language_info": {
   "codemirror_mode": {
    "name": "ipython",
    "version": 3
   },
   "file_extension": ".py",
   "mimetype": "text/x-python",
   "name": "python",
   "nbconvert_exporter": "python",
   "pygments_lexer": "ipython3",
   "version": "3.8.5"
  }
 },
 "nbformat": 4,
 "nbformat_minor": 4
}
